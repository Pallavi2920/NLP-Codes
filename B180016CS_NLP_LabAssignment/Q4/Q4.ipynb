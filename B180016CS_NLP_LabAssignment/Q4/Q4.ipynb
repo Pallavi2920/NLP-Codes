{
 "cells": [
  {
   "cell_type": "code",
   "execution_count": 5,
   "id": "967294d7",
   "metadata": {},
   "outputs": [
    {
     "name": "stdout",
     "output_type": "stream",
     "text": [
      "[('black', 'knight'), ('clop', 'clop'), ('head', 'knight'), ('mumble', 'mumble'), ('squeak', 'squeak'), ('saw', 'saw'), ('holy', 'grail'), ('run', 'away'), ('french', 'guard'), ('cartoon', 'character'), ('iesu', 'domine'), ('pie', 'iesu'), ('round', 'table'), ('sir', 'robin'), ('clap', 'clap')]\n"
     ]
    }
   ],
   "source": [
    "from nltk.corpus import webtext\n",
    "import os\n",
    "\n",
    "# use to find bigrams, which are pairs of words\n",
    "from nltk.collocations import BigramCollocationFinder\n",
    "from nltk.metrics import BigramAssocMeasures\n",
    "\n",
    "# Loading the data\n",
    "words = [w.lower() for w in webtext.words(os.getcwd()+'/file3.txt')]\n",
    "\n",
    "biagram_collocation = BigramCollocationFinder.from_words(words)\n",
    "biagram_collocation.nbest(BigramAssocMeasures.likelihood_ratio, 15)\n",
    "\n",
    "from nltk.corpus import stopwords\n",
    "\n",
    "stopset = set(stopwords.words('english'))\n",
    "filter_stops = lambda w: len(w) < 3 or w in stopset\n",
    "\n",
    "biagram_collocation.apply_word_filter(filter_stops)\n",
    "print(biagram_collocation.nbest(BigramAssocMeasures.likelihood_ratio, 15))"
   ]
  },
  {
   "cell_type": "code",
   "execution_count": null,
   "id": "32900df7",
   "metadata": {},
   "outputs": [],
   "source": []
  }
 ],
 "metadata": {
  "kernelspec": {
   "display_name": "Python 3 (ipykernel)",
   "language": "python",
   "name": "python3"
  },
  "language_info": {
   "codemirror_mode": {
    "name": "ipython",
    "version": 3
   },
   "file_extension": ".py",
   "mimetype": "text/x-python",
   "name": "python",
   "nbconvert_exporter": "python",
   "pygments_lexer": "ipython3",
   "version": "3.9.7"
  }
 },
 "nbformat": 4,
 "nbformat_minor": 5
}
